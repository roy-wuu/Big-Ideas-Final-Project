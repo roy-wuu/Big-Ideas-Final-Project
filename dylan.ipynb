{
 "cells": [
  {
   "cell_type": "code",
   "execution_count": 8,
   "metadata": {},
   "outputs": [
    {
     "ename": "ModuleNotFoundError",
     "evalue": "No module named 'haversine'",
     "output_type": "error",
     "traceback": [
      "\u001b[0;31m---------------------------------------------------------------------------\u001b[0m",
      "\u001b[0;31mModuleNotFoundError\u001b[0m                       Traceback (most recent call last)",
      "\u001b[0;32m<ipython-input-8-d50bc139373b>\u001b[0m in \u001b[0;36m<module>\u001b[0;34m\u001b[0m\n\u001b[1;32m     10\u001b[0m \u001b[0;34m\u001b[0m\u001b[0m\n\u001b[1;32m     11\u001b[0m \u001b[0;31m# haversine is used to properly calculate the distance between two coordinates\u001b[0m\u001b[0;34m\u001b[0m\u001b[0;34m\u001b[0m\u001b[0;34m\u001b[0m\u001b[0m\n\u001b[0;32m---> 12\u001b[0;31m \u001b[0;32mimport\u001b[0m \u001b[0mhaversine\u001b[0m \u001b[0;32mas\u001b[0m \u001b[0mhs\u001b[0m\u001b[0;34m\u001b[0m\u001b[0;34m\u001b[0m\u001b[0m\n\u001b[0m\u001b[1;32m     13\u001b[0m \u001b[0;34m\u001b[0m\u001b[0m\n\u001b[1;32m     14\u001b[0m \u001b[0;31m# imports to create a custom colormap\u001b[0m\u001b[0;34m\u001b[0m\u001b[0;34m\u001b[0m\u001b[0;34m\u001b[0m\u001b[0m\n",
      "\u001b[0;31mModuleNotFoundError\u001b[0m: No module named 'haversine'"
     ]
    }
   ],
   "source": [
    "import pandas as pd\n",
    "import numpy as np\n",
    "%matplotlib inline\n",
    "import matplotlib.pyplot as plt\n",
    "from tqdm import tqdm\n",
    "import geopandas\n",
    "import re\n",
    "import json\n",
    "import statistics\n",
    "\n",
    "# haversine is used to properly calculate the distance between two coordinates\n",
    "import haversine as hs\n",
    "\n",
    "# imports to create a custom colormap\n",
    "from matplotlib import cm\n",
    "from matplotlib.colors import ListedColormap, LinearSegmentedColormap"
   ]
  },
  {
   "cell_type": "markdown",
   "metadata": {},
   "source": [
    "## Metric 3: Vacant Houses\n",
    "\n",
    "### Data from: https://data.wprdc.org/dataset/vacant-addresses \n",
    "A getaway driver has to drive somewhere, and the best places for criminals to hide their new illicit gains are vacancies. Therefore, it stands to reason that the best areas to be a getaway driver are areas with many different vacancies to choose from. To find the best neighborhood to commit getaway crimes in Pittsburgh, the data set that I analyzed is the WORD Pennsylvania Vacant Addresses set. This set is created from the postal services record of failed deliveries, and uses this record over time to determine which addresses are vacant. The postal service has been gathering this data since its creation, but this vacancy set was created in 2016 and only observed back to 2012, and is updated to be current multiple times a year. It includes many fields, but the only ones applicable to my purposes are the geoid and the total vacancy count."
   ]
  },
  {
   "cell_type": "code",
   "execution_count": 9,
   "metadata": {},
   "outputs": [
    {
     "data": {
      "text/plain": [
       "119066"
      ]
     },
     "execution_count": 9,
     "metadata": {},
     "output_type": "execute_result"
    }
   ],
   "source": [
    "vac_data = pd.read_csv(\"https://data.wprdc.org/dataset/c5ae9638-7572-4ed9-a193-384cb2ff4d03/resource/0d97c478-cce1-488d-aabc-da116cc6987d/download/all_usps_vacancy_data.csv\", index_col=\"geoid\")\n",
    "\n",
    "len(vac_data)"
   ]
  },
  {
   "cell_type": "markdown",
   "metadata": {},
   "source": [
    "Oh No! Thats too many!\n",
    "\n",
    "It turns out that tihis data set is for the whole of Pennsylvania, not just Pittsburgh. Not only that, but they are stored in geoids and not neighborhoods, like the other sets in this project. \n",
    "\n",
    "To rectify this, I need to both identify the Pittsburgh geoids, and transform them into neighborhoods.\n",
    "\n",
    "These Neghborhood names where provided by my groups other sets, and the correlation to geoids was provided by the census at https://www2.census.gov/geo/docs/reference/codes/files/st42_pa_places.txt."
   ]
  },
  {
   "cell_type": "code",
   "execution_count": 10,
   "metadata": {},
   "outputs": [],
   "source": [
    "nhoods = pd.DataFrame({\"name\" : ['Allegheny West','Allentown','Arlington','Arlington Heights','Banksville','Bedford Dwellings','Beechview','Beltzhoover','Bloomfield',\n",
    " 'Bluff','Bon Air','Brighton Heights','Brookline','California-Kirkbride','Carrick','Central Business District',\n",
    " 'Central Lawrenceville','Central North Side','Central Oakland','Chartiers City','Chateau','Crafton Heights','Crawford-Roberts',\n",
    " 'Duquesne Heights','East Allegheny','East Carnegie','East Hills','East Liberty','Elliott','Esplen',\n",
    " 'Fairywood','Fineview','Friendship','Garfield','Glen Hazel','Golden Triangle/Civic Arena','Greenfield','Hays','Hazelwood','Highland Park','Homewood North','Homewood South',\n",
    " 'Homewood West','Knoxville','Larimer','Lincoln Place','Lincoln-Lemington-Belmar','Lower Lawrenceville','Manchester','Marshall-Shadeland','Middle Hill',\n",
    " 'Morningside','Mount Oliver','Mount Washington','Mt. Oliver Boro','Mt. Oliver Neighborhood','New Homestead','North Oakland','North Shore',\n",
    " 'Northview Heights','Oakwood','Outside City','Outside County','Outside State','Overbrook','Perry North','Perry South','Point Breeze',\n",
    " 'Point Breeze North','Polish Hill','Regent Square','Ridgemont','Shadyside','Sheraden','South Oakland','South Shore','South Side Flats','South Side Slopes',\n",
    " 'Spring Garden','Spring Hill-City View','Squirrel Hill North','Squirrel Hill South','St. Clair','Stanton Heights','Strip District',\n",
    " 'Summer Hill','Swisshelm Park','Terrace Village','Troy Hill','Troy Hill-Herrs Island','Upper Hill','Upper Lawrenceville','West End',\n",
    " 'West Oakland','Westwood', 'Windgap'], \n",
    "\"geoid\" : [4200892, 4202000, 4203008, 0, 4204944, 4204984, 0 , 4207040,\n",
    "0, 0, 4208680, 0, 4210768, 0, 0, 4242016, 0, 4255992, 4212848, 0, 4216848, 0, 4220432,4200876 \n",
    ",4211336,0 ,4243064 ,0 ,0,0 ,0,4227968 ,0 ,4229632,0 ,4231008 ,4233312,0 ,4234592,4235488 ,0 \n",
    ",0 ,4240360 ,4241568 ,4243408,4226296,4242016,4246872,4247696,0 ,0 ,4251744 ,4222016 ,4251744 \n",
    ",4256712,4235424 ,4256008 ,0 ,0 ,4256232 ,0 ,0 ,0,0\n",
    ",4259440,4259448 ,4261832 ,4261864 ,0 ,0  ,4207976,4269448,4246376 ,4255992 ,4272472 ,427250 ,0\n",
    ",4273168 ,4273224 ,4273248, 4273240, 4279274, 4254104, 4219312, 4275168,4275168, 4275816, 4238640, 4277584, 4277592,\n",
    "4279064, 4279080, 4282848, 4256016, 4284248, 4285720]})"
   ]
  },
  {
   "cell_type": "markdown",
   "metadata": {},
   "source": [
    "First, I have to make a data frame of all neighborhoods in Pittsburgh, and their respective geoids. Next, I will compare geoids in each to find if each neighborhood has at least 3 vacancies. If there are any less than 3, then it would be too obvious to any law enforcement which safehouse stores the large sacks of money or priceless museum artifacts."
   ]
  },
  {
   "cell_type": "code",
   "execution_count": null,
   "metadata": {},
   "outputs": [],
   "source": []
  }
 ],
 "metadata": {
  "kernelspec": {
   "display_name": "Python 3",
   "language": "python",
   "name": "python3"
  },
  "language_info": {
   "codemirror_mode": {
    "name": "ipython",
    "version": 3
   },
   "file_extension": ".py",
   "mimetype": "text/x-python",
   "name": "python",
   "nbconvert_exporter": "python",
   "pygments_lexer": "ipython3",
   "version": "3.8.3"
  }
 },
 "nbformat": 4,
 "nbformat_minor": 4
}
